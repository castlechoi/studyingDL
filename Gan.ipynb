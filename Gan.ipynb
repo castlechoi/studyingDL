{
  "nbformat": 4,
  "nbformat_minor": 0,
  "metadata": {
    "colab": {
      "provenance": [],
      "authorship_tag": "ABX9TyPt8fewR5sawueQbAVfmhPf",
      "include_colab_link": true
    },
    "kernelspec": {
      "name": "python3",
      "display_name": "Python 3"
    },
    "language_info": {
      "name": "python"
    },
    "accelerator": "GPU",
    "gpuClass": "standard"
  },
  "cells": [
    {
      "cell_type": "markdown",
      "metadata": {
        "id": "view-in-github",
        "colab_type": "text"
      },
      "source": [
        "<a href=\"https://colab.research.google.com/github/castlechoi/studyingDL/blob/main/Gan.ipynb\" target=\"_parent\"><img src=\"https://colab.research.google.com/assets/colab-badge.svg\" alt=\"Open In Colab\"/></a>"
      ]
    },
    {
      "cell_type": "code",
      "execution_count": 1,
      "metadata": {
        "id": "pfbUhNqupPeG"
      },
      "outputs": [],
      "source": [
        "import torch\n",
        "import torch.nn as nn\n",
        "import torch.optim as optim\n",
        "\n",
        "from torchvision import datasets\n",
        "import torchvision.transforms as transforms\n",
        "from torchvision.utils import save_image"
      ]
    },
    {
      "cell_type": "code",
      "source": [
        "transforms_train = transforms.Compose([\n",
        "    transforms.Resize(28),\n",
        "    transforms.ToTensor(),\n",
        "    transforms.Normalize([0.5], [0.5])\n",
        "])\n",
        "\n",
        "train_dataset = datasets.MNIST(root=\"./dataset\", train=True, download=True, transform=transforms_train)\n",
        "dataloader = torch.utils.data.DataLoader(train_dataset, batch_size=128, shuffle=True, num_workers=4)"
      ],
      "metadata": {
        "id": "ZaZoaI5spems"
      },
      "execution_count": 17,
      "outputs": []
    },
    {
      "cell_type": "code",
      "source": [
        "class Generator(nn.Module):\n",
        "  def __init__(self):\n",
        "    super(Generator, self).__init__()\n",
        "    self.input_dim = 128\n",
        "    self.output_dim = 28 * 28 * 1\n",
        "\n",
        "    self.model = nn.Sequential(\n",
        "        nn.Linear(100,self.input_dim),\n",
        "        nn.BatchNorm1d(128,0.8),\n",
        "        nn.LeakyReLU(0.2, inplace = True),\n",
        "\n",
        "        nn.Linear(self.input_dim, self.input_dim * 2),\n",
        "        nn.BatchNorm1d(self.input_dim * 2, 0.8),\n",
        "        nn.LeakyReLU(0.2, inplace = True),\n",
        "\n",
        "        nn.Linear(self.input_dim * 2, self.input_dim * 4),\n",
        "        nn.BatchNorm1d(self.input_dim * 4, 0.8),\n",
        "        nn.LeakyReLU(0.2, inplace = True),\n",
        "\n",
        "        nn.Linear(self.input_dim*4, self.input_dim * 8),\n",
        "        nn.BatchNorm1d(self.input_dim * 8, 0.8),\n",
        "        nn.LeakyReLU(0.2, inplace = True),\n",
        "\n",
        "        nn.Linear(self.input_dim*8, self.output_dim),\n",
        "        nn.Tanh()\n",
        "    )\n",
        "\n",
        "  def forward(self, x):\n",
        "    fake = self.model(x)\n",
        "    fake = fake.view(fake.size(0),1,28,28) # batch * channel * w * h\n",
        "    return fake"
      ],
      "metadata": {
        "id": "TcMcl39bp9k0"
      },
      "execution_count": 24,
      "outputs": []
    },
    {
      "cell_type": "code",
      "source": [
        "class Discriminator(nn.Module):\n",
        "  def __init__(self):\n",
        "    super(Discriminator, self).__init__()\n",
        "\n",
        "    self.model = nn.Sequential(\n",
        "        nn.Linear(1* 28 * 28, 512),\n",
        "        nn.LeakyReLU(0.2, inplace = True),\n",
        "        nn.Linear(512,256),\n",
        "        nn.LeakyReLU(0.2, inplace = True),\n",
        "        nn.Linear(256,1),\n",
        "        nn.Sigmoid()\n",
        "    )\n",
        "\n",
        "  def forward(self, img):\n",
        "    flatten = img.view(img.size(0), -1)\n",
        "    output = self.model(flatten)\n",
        "    return output"
      ],
      "metadata": {
        "id": "yC5_pbEfsN6L"
      },
      "execution_count": 20,
      "outputs": []
    },
    {
      "cell_type": "code",
      "source": [
        "generator = Generator()\n",
        "discriminator = Discriminator()\n",
        "\n",
        "generator.cuda()\n",
        "discriminator.cuda()\n",
        "\n",
        "adversarial_loss = nn.BCELoss()\n",
        "adversarial_loss.cuda()\n",
        "\n",
        "lr = 0.0002\n",
        "\n",
        "optimizer_g = optim.Adam(generator.parameters(), lr = lr, betas=(0.5,0.999))\n",
        "optimizer_d = optim.Adam(discriminator.parameters(), lr = lr, betas=(0.5,0.999))"
      ],
      "metadata": {
        "id": "_ZvIfJ5hs7Id"
      },
      "execution_count": 35,
      "outputs": []
    },
    {
      "cell_type": "code",
      "source": [
        "import time\n",
        "\n",
        "n_epochs = 200\n",
        "sample_interval = 2000\n",
        "start_time = time.time()\n",
        "\n",
        "for epoch in range(n_epochs):\n",
        "  for i, (img, _) in enumerate(dataloader):\n",
        "    # batch size 만큼 label 생성\n",
        "    real = torch.cuda.FloatTensor(img.size(0),1).fill_(1.0)\n",
        "    fake = torch.cuda.FloatTensor(img.size(0),1).fill_(0.0)\n",
        "\n",
        "    real_imgs = img.cuda()\n",
        "\n",
        "    optimizer_g.zero_grad()\n",
        "    z = torch.normal(mean = 0, std = 1, size = (img.size(0), 100)).cuda()\n",
        "    generated_imgs = generator(z)\n",
        "\n",
        "    g_loss = adversarial_loss(discriminator(generated_imgs), real)\n",
        "    g_loss.backward()\n",
        "    optimizer_g.step()\n",
        "\n",
        "    optimizer_d.zero_grad()\n",
        "\n",
        "    real_loss = adversarial_loss(discriminator(real_imgs), real)\n",
        "    fake_loss = adversarial_loss(discriminator(generated_imgs.detach()), fake)\n",
        "    d_loss = (real_loss + fake_loss) / 2\n",
        "\n",
        "    d_loss.backward()\n",
        "    optimizer_d.step()\n",
        "\n",
        "    done = epoch * len(dataloader) + i\n",
        "    if done % sample_interval == 0:\n",
        "      save_image(generated_imgs.data[:25], f\"{done}.png\", nrow = 5, normalize = True )\n",
        " # 하나의 epoch이 끝날 때마다 로그(log) 출력\n",
        "  print(f\"[Epoch {epoch}/{n_epochs}] [D loss: {d_loss.item():.6f}] [G loss: {g_loss.item():.6f}] [Elapsed time: {time.time() - start_time:.2f}s]\")     "
      ],
      "metadata": {
        "colab": {
          "base_uri": "https://localhost:8080/"
        },
        "id": "WGlf85mjtZFh",
        "outputId": "ec540ad8-5cd2-4ee2-ea5b-cb4df5eb9e7a"
      },
      "execution_count": null,
      "outputs": [
        {
          "output_type": "stream",
          "name": "stdout",
          "text": [
            "[Epoch 0/200] [D loss: 0.375986] [G loss: 1.061186] [Elapsed time: 18.39s]\n",
            "[Epoch 1/200] [D loss: 0.311376] [G loss: 1.573003] [Elapsed time: 37.77s]\n",
            "[Epoch 2/200] [D loss: 0.441066] [G loss: 0.666339] [Elapsed time: 55.98s]\n",
            "[Epoch 3/200] [D loss: 0.343097] [G loss: 1.621822] [Elapsed time: 75.30s]\n",
            "[Epoch 4/200] [D loss: 0.477819] [G loss: 0.642458] [Elapsed time: 95.40s]\n",
            "[Epoch 5/200] [D loss: 0.230828] [G loss: 1.960929] [Elapsed time: 115.20s]\n",
            "[Epoch 6/200] [D loss: 0.220737] [G loss: 2.191481] [Elapsed time: 136.19s]\n",
            "[Epoch 7/200] [D loss: 0.251085] [G loss: 1.633245] [Elapsed time: 155.37s]\n",
            "[Epoch 8/200] [D loss: 0.619106] [G loss: 3.613500] [Elapsed time: 175.40s]\n",
            "[Epoch 9/200] [D loss: 0.335777] [G loss: 2.202023] [Elapsed time: 194.59s]\n",
            "[Epoch 10/200] [D loss: 0.178077] [G loss: 2.168049] [Elapsed time: 214.67s]\n",
            "[Epoch 11/200] [D loss: 0.299057] [G loss: 2.200274] [Elapsed time: 234.49s]\n",
            "[Epoch 12/200] [D loss: 0.253040] [G loss: 3.009355] [Elapsed time: 254.94s]\n",
            "[Epoch 13/200] [D loss: 0.167729] [G loss: 2.167358] [Elapsed time: 274.25s]\n",
            "[Epoch 14/200] [D loss: 0.145682] [G loss: 3.710191] [Elapsed time: 294.26s]\n",
            "[Epoch 15/200] [D loss: 0.271813] [G loss: 3.972623] [Elapsed time: 313.42s]\n",
            "[Epoch 16/200] [D loss: 0.284490] [G loss: 3.004312] [Elapsed time: 333.79s]\n",
            "[Epoch 17/200] [D loss: 0.227868] [G loss: 1.364539] [Elapsed time: 353.21s]\n",
            "[Epoch 18/200] [D loss: 0.283036] [G loss: 1.185189] [Elapsed time: 373.69s]\n",
            "[Epoch 19/200] [D loss: 1.056374] [G loss: 9.073046] [Elapsed time: 393.20s]\n",
            "[Epoch 20/200] [D loss: 0.142317] [G loss: 2.104735] [Elapsed time: 413.85s]\n",
            "[Epoch 21/200] [D loss: 0.184407] [G loss: 1.698050] [Elapsed time: 434.49s]\n",
            "[Epoch 22/200] [D loss: 0.133807] [G loss: 2.712565] [Elapsed time: 454.90s]\n",
            "[Epoch 23/200] [D loss: 0.156672] [G loss: 1.869662] [Elapsed time: 472.90s]\n",
            "[Epoch 24/200] [D loss: 0.109818] [G loss: 2.666188] [Elapsed time: 492.05s]\n",
            "[Epoch 25/200] [D loss: 0.169160] [G loss: 2.368480] [Elapsed time: 510.22s]\n",
            "[Epoch 26/200] [D loss: 0.152868] [G loss: 2.205354] [Elapsed time: 528.39s]\n",
            "[Epoch 27/200] [D loss: 0.167240] [G loss: 2.093287] [Elapsed time: 547.49s]\n",
            "[Epoch 28/200] [D loss: 0.238607] [G loss: 1.695857] [Elapsed time: 565.36s]\n",
            "[Epoch 29/200] [D loss: 0.217043] [G loss: 1.861719] [Elapsed time: 584.16s]\n",
            "[Epoch 30/200] [D loss: 0.453061] [G loss: 4.131583] [Elapsed time: 602.56s]\n",
            "[Epoch 31/200] [D loss: 0.151697] [G loss: 2.161381] [Elapsed time: 620.40s]\n",
            "[Epoch 32/200] [D loss: 0.327543] [G loss: 1.487708] [Elapsed time: 639.47s]\n",
            "[Epoch 33/200] [D loss: 0.182968] [G loss: 2.501089] [Elapsed time: 657.21s]\n",
            "[Epoch 34/200] [D loss: 0.384762] [G loss: 4.279430] [Elapsed time: 675.02s]\n",
            "[Epoch 35/200] [D loss: 0.253949] [G loss: 1.574689] [Elapsed time: 693.66s]\n",
            "[Epoch 36/200] [D loss: 0.185871] [G loss: 3.794928] [Elapsed time: 711.61s]\n",
            "[Epoch 37/200] [D loss: 0.202548] [G loss: 2.005872] [Elapsed time: 731.38s]\n",
            "[Epoch 38/200] [D loss: 0.133659] [G loss: 3.230114] [Elapsed time: 748.97s]\n",
            "[Epoch 39/200] [D loss: 0.267597] [G loss: 2.450286] [Elapsed time: 766.82s]\n",
            "[Epoch 40/200] [D loss: 0.198166] [G loss: 1.964660] [Elapsed time: 785.68s]\n",
            "[Epoch 41/200] [D loss: 0.184715] [G loss: 1.798842] [Elapsed time: 803.47s]\n",
            "[Epoch 42/200] [D loss: 0.298054] [G loss: 1.360733] [Elapsed time: 822.42s]\n",
            "[Epoch 43/200] [D loss: 0.472143] [G loss: 4.470839] [Elapsed time: 840.50s]\n",
            "[Epoch 44/200] [D loss: 0.243734] [G loss: 1.463741] [Elapsed time: 858.29s]\n",
            "[Epoch 45/200] [D loss: 0.250115] [G loss: 3.153947] [Elapsed time: 877.45s]\n",
            "[Epoch 46/200] [D loss: 0.242382] [G loss: 1.514522] [Elapsed time: 895.62s]\n",
            "[Epoch 47/200] [D loss: 0.263604] [G loss: 1.397001] [Elapsed time: 914.38s]\n",
            "[Epoch 48/200] [D loss: 0.225571] [G loss: 2.642643] [Elapsed time: 932.85s]\n",
            "[Epoch 49/200] [D loss: 0.201459] [G loss: 1.913529] [Elapsed time: 950.97s]\n",
            "[Epoch 50/200] [D loss: 0.446821] [G loss: 0.982315] [Elapsed time: 970.12s]\n",
            "[Epoch 51/200] [D loss: 0.258036] [G loss: 2.326935] [Elapsed time: 988.01s]\n",
            "[Epoch 52/200] [D loss: 0.326023] [G loss: 1.391876] [Elapsed time: 1006.96s]\n",
            "[Epoch 53/200] [D loss: 0.278169] [G loss: 2.024907] [Elapsed time: 1026.28s]\n",
            "[Epoch 54/200] [D loss: 0.408741] [G loss: 1.111696] [Elapsed time: 1044.22s]\n",
            "[Epoch 55/200] [D loss: 0.231319] [G loss: 2.211734] [Elapsed time: 1063.45s]\n",
            "[Epoch 56/200] [D loss: 0.221109] [G loss: 1.662093] [Elapsed time: 1081.37s]\n",
            "[Epoch 57/200] [D loss: 0.244909] [G loss: 2.377983] [Elapsed time: 1099.23s]\n",
            "[Epoch 58/200] [D loss: 0.230269] [G loss: 1.801060] [Elapsed time: 1118.26s]\n",
            "[Epoch 59/200] [D loss: 0.394864] [G loss: 4.213734] [Elapsed time: 1136.20s]\n",
            "[Epoch 60/200] [D loss: 0.326736] [G loss: 1.085495] [Elapsed time: 1154.67s]\n",
            "[Epoch 61/200] [D loss: 0.284408] [G loss: 1.474217] [Elapsed time: 1172.77s]\n",
            "[Epoch 62/200] [D loss: 0.308011] [G loss: 3.161081] [Elapsed time: 1190.68s]\n",
            "[Epoch 63/200] [D loss: 0.365295] [G loss: 3.752496] [Elapsed time: 1209.74s]\n",
            "[Epoch 64/200] [D loss: 0.270005] [G loss: 2.033343] [Elapsed time: 1227.57s]\n",
            "[Epoch 65/200] [D loss: 0.353625] [G loss: 3.953516] [Elapsed time: 1246.02s]\n",
            "[Epoch 66/200] [D loss: 0.317212] [G loss: 2.029578] [Elapsed time: 1264.52s]\n",
            "[Epoch 67/200] [D loss: 0.365439] [G loss: 3.115951] [Elapsed time: 1282.33s]\n",
            "[Epoch 68/200] [D loss: 0.226241] [G loss: 2.257681] [Elapsed time: 1301.95s]\n",
            "[Epoch 69/200] [D loss: 0.304904] [G loss: 1.442034] [Elapsed time: 1320.15s]\n",
            "[Epoch 70/200] [D loss: 0.231381] [G loss: 2.033869] [Elapsed time: 1338.45s]\n",
            "[Epoch 71/200] [D loss: 0.253013] [G loss: 2.289413] [Elapsed time: 1356.36s]\n",
            "[Epoch 72/200] [D loss: 0.252340] [G loss: 2.670066] [Elapsed time: 1373.86s]\n",
            "[Epoch 73/200] [D loss: 0.290148] [G loss: 2.617259] [Elapsed time: 1392.38s]\n",
            "[Epoch 74/200] [D loss: 0.247314] [G loss: 2.266771] [Elapsed time: 1410.04s]\n",
            "[Epoch 75/200] [D loss: 0.352551] [G loss: 2.787004] [Elapsed time: 1427.57s]\n",
            "[Epoch 76/200] [D loss: 0.235617] [G loss: 1.985916] [Elapsed time: 1446.25s]\n",
            "[Epoch 77/200] [D loss: 0.263788] [G loss: 2.274583] [Elapsed time: 1463.90s]\n",
            "[Epoch 78/200] [D loss: 0.297932] [G loss: 1.557481] [Elapsed time: 1481.81s]\n",
            "[Epoch 79/200] [D loss: 0.235816] [G loss: 1.727937] [Elapsed time: 1499.83s]\n",
            "[Epoch 80/200] [D loss: 0.195787] [G loss: 2.244423] [Elapsed time: 1517.14s]\n",
            "[Epoch 81/200] [D loss: 0.346852] [G loss: 3.031959] [Elapsed time: 1535.60s]\n",
            "[Epoch 82/200] [D loss: 0.197626] [G loss: 2.023490] [Elapsed time: 1553.42s]\n",
            "[Epoch 83/200] [D loss: 0.299493] [G loss: 1.602492] [Elapsed time: 1571.06s]\n",
            "[Epoch 84/200] [D loss: 0.206886] [G loss: 2.397281] [Elapsed time: 1589.84s]\n",
            "[Epoch 85/200] [D loss: 0.432876] [G loss: 4.100452] [Elapsed time: 1608.92s]\n",
            "[Epoch 86/200] [D loss: 0.232102] [G loss: 2.208296] [Elapsed time: 1626.65s]\n",
            "[Epoch 87/200] [D loss: 0.155734] [G loss: 2.303753] [Elapsed time: 1645.28s]\n",
            "[Epoch 88/200] [D loss: 0.425981] [G loss: 1.037926] [Elapsed time: 1662.65s]\n",
            "[Epoch 89/200] [D loss: 0.181351] [G loss: 2.148927] [Elapsed time: 1680.12s]\n",
            "[Epoch 90/200] [D loss: 0.234240] [G loss: 1.954335] [Elapsed time: 1698.68s]\n",
            "[Epoch 91/200] [D loss: 0.355784] [G loss: 1.890002] [Elapsed time: 1716.17s]\n",
            "[Epoch 92/200] [D loss: 0.296464] [G loss: 2.078831] [Elapsed time: 1734.25s]\n",
            "[Epoch 93/200] [D loss: 0.277805] [G loss: 2.201121] [Elapsed time: 1752.08s]\n",
            "[Epoch 94/200] [D loss: 0.275172] [G loss: 2.556227] [Elapsed time: 1769.55s]\n",
            "[Epoch 95/200] [D loss: 0.265471] [G loss: 1.914725] [Elapsed time: 1788.41s]\n",
            "[Epoch 96/200] [D loss: 0.344743] [G loss: 2.802237] [Elapsed time: 1806.02s]\n",
            "[Epoch 97/200] [D loss: 0.195015] [G loss: 2.546093] [Elapsed time: 1823.44s]\n",
            "[Epoch 98/200] [D loss: 0.376235] [G loss: 2.042818] [Elapsed time: 1841.95s]\n",
            "[Epoch 99/200] [D loss: 0.235011] [G loss: 2.091293] [Elapsed time: 1859.69s]\n",
            "[Epoch 100/200] [D loss: 0.496182] [G loss: 0.741794] [Elapsed time: 1877.22s]\n",
            "[Epoch 101/200] [D loss: 0.316013] [G loss: 1.478176] [Elapsed time: 1895.64s]\n",
            "[Epoch 102/200] [D loss: 0.346790] [G loss: 4.039206] [Elapsed time: 1913.19s]\n",
            "[Epoch 103/200] [D loss: 0.381129] [G loss: 3.062747] [Elapsed time: 1931.27s]\n",
            "[Epoch 104/200] [D loss: 0.259519] [G loss: 1.587476] [Elapsed time: 1950.65s]\n",
            "[Epoch 105/200] [D loss: 0.513722] [G loss: 4.819378] [Elapsed time: 1968.24s]\n",
            "[Epoch 106/200] [D loss: 0.299363] [G loss: 1.633019] [Elapsed time: 1987.11s]\n",
            "[Epoch 107/200] [D loss: 0.354853] [G loss: 3.985600] [Elapsed time: 2004.47s]\n",
            "[Epoch 108/200] [D loss: 0.261784] [G loss: 2.837288] [Elapsed time: 2021.96s]\n",
            "[Epoch 109/200] [D loss: 0.304013] [G loss: 3.049669] [Elapsed time: 2040.66s]\n",
            "[Epoch 110/200] [D loss: 0.323337] [G loss: 1.590242] [Elapsed time: 2058.05s]\n",
            "[Epoch 111/200] [D loss: 0.209512] [G loss: 1.772655] [Elapsed time: 2075.92s]\n",
            "[Epoch 112/200] [D loss: 0.226318] [G loss: 2.345793] [Elapsed time: 2094.18s]\n",
            "[Epoch 113/200] [D loss: 0.250549] [G loss: 2.276857] [Elapsed time: 2111.76s]\n",
            "[Epoch 114/200] [D loss: 0.312879] [G loss: 2.886532] [Elapsed time: 2130.33s]\n",
            "[Epoch 115/200] [D loss: 0.224795] [G loss: 2.284633] [Elapsed time: 2147.87s]\n",
            "[Epoch 116/200] [D loss: 0.291279] [G loss: 1.712985] [Elapsed time: 2165.45s]\n",
            "[Epoch 117/200] [D loss: 0.244310] [G loss: 1.568187] [Elapsed time: 2184.20s]\n",
            "[Epoch 118/200] [D loss: 0.293000] [G loss: 1.670944] [Elapsed time: 2201.87s]\n",
            "[Epoch 119/200] [D loss: 0.319869] [G loss: 1.373982] [Elapsed time: 2219.44s]\n"
          ]
        }
      ]
    },
    {
      "cell_type": "code",
      "source": [
        "from IPython.display import Image\n",
        "\n",
        "Image('92000.png')"
      ],
      "metadata": {
        "id": "jwoL88iGw1mq"
      },
      "execution_count": null,
      "outputs": []
    }
  ]
}