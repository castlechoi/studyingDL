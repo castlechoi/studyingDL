{
  "nbformat": 4,
  "nbformat_minor": 0,
  "metadata": {
    "colab": {
      "provenance": [],
      "authorship_tag": "ABX9TyO2GEZ98aJ6j5uY4nh4fvFf"
    },
    "kernelspec": {
      "name": "python3",
      "display_name": "Python 3"
    },
    "language_info": {
      "name": "python"
    }
  },
  "cells": [
    {
      "cell_type": "markdown",
      "source": [
        "## Bag of words\n",
        "단어의 순서에 상관없이 출현빈도에 집중"
      ],
      "metadata": {
        "id": "a5yd6BnRRezk"
      }
    },
    {
      "cell_type": "code",
      "execution_count": 17,
      "metadata": {
        "colab": {
          "base_uri": "https://localhost:8080/"
        },
        "id": "PmlxlTdGRRfA",
        "outputId": "85c358e7-2a72-403e-e698-663ea1caab44"
      },
      "outputs": [
        {
          "output_type": "stream",
          "name": "stdout",
          "text": [
            "{'Miracles': 1, 'happend': 1, 'to': 1, 'only': 1, 'those': 1, 'who': 1, 'believe': 1, 'in': 1, 'them': 1, '.': 1}\n",
            "{'To': 1, 'be': 2, 'trusted': 1, 'is': 1, 'a': 1, 'greater': 1, 'compliment': 1, 'than': 1, 'to': 1, 'loved': 1, '.': 1}\n",
            "{'The': 1, 'world': 1, 'is': 1, 'a': 1, 'beautiful': 1, 'book': 1, ',': 1, 'but': 1, 'of': 1, 'little': 1, 'use': 1, 'to': 1, 'him': 1, 'who': 1, 'can': 1, 'not': 1, 'read': 1, 'it': 1, '.': 1}\n"
          ]
        },
        {
          "output_type": "stream",
          "name": "stderr",
          "text": [
            "[nltk_data] Downloading package punkt to /root/nltk_data...\n",
            "[nltk_data]   Package punkt is already up-to-date!\n"
          ]
        }
      ],
      "source": [
        "\"\"\" nltk : 영어 형태소 분석 \"\"\"\n",
        "\"\"\" knolpy : 한글 형태소 분석 \"\"\"\n",
        "import nltk\n",
        "\n",
        "nltk.download('punkt') # 토큰화를 위한 파일 다운로드\n",
        "doc1 = 'Miracles happend to only those who believe in them.'\n",
        "doc2 = 'To be trusted is a greater compliment than to be loved.'\n",
        "doc3 = 'The world is a beautiful book, but of little use to him who cannot read it.'\n",
        "\n",
        "doc = [doc1, doc2, doc3]\n",
        "# 빈도수 딕셔너리에 저장\n",
        "tk_doc1 = {}\n",
        "tk_doc2 = {}\n",
        "tk_doc3 = {}\n",
        "doc_dict = [tk_doc1, tk_doc2, tk_doc3]\n",
        "for idx,document in enumerate(doc):\n",
        "  for word in nltk.word_tokenize(document):\n",
        "    if word in doc_dict[idx]:\n",
        "      doc_dict[idx][word] += 1\n",
        "    else:\n",
        "      doc_dict[idx][word] = 1\n",
        "  print(doc_dict[idx])"
      ]
    },
    {
      "cell_type": "markdown",
      "source": [
        "## stopword 처리"
      ],
      "metadata": {
        "id": "pYAvYDHgZqvf"
      }
    },
    {
      "cell_type": "code",
      "source": [
        "nltk.download('stopwords')\n",
        "\n",
        "# 영어 불용어 다운로드\n",
        "stopwords = nltk.corpus.stopwords.words('english')\n",
        "\n",
        "# 불용어에 마침표나 쉼표같은 문자는 제거 되지 않는다.\n",
        "for document in doc_dict:\n",
        "  print([t for t in document if t.lower() not in stopwords])"
      ],
      "metadata": {
        "colab": {
          "base_uri": "https://localhost:8080/"
        },
        "id": "fUyNEn3-Z_Ln",
        "outputId": "be2da99b-8aa9-44b1-8a62-0740a3e74cae"
      },
      "execution_count": 18,
      "outputs": [
        {
          "output_type": "stream",
          "name": "stdout",
          "text": [
            "['Miracles', 'happend', 'believe', '.']\n",
            "['trusted', 'greater', 'compliment', 'loved', '.']\n",
            "['world', 'beautiful', 'book', ',', 'little', 'use', 'read', '.']\n"
          ]
        },
        {
          "output_type": "stream",
          "name": "stderr",
          "text": [
            "[nltk_data] Downloading package stopwords to /root/nltk_data...\n",
            "[nltk_data]   Package stopwords is already up-to-date!\n"
          ]
        }
      ]
    }
  ]
}