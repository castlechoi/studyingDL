{
  "nbformat": 4,
  "nbformat_minor": 0,
  "metadata": {
    "colab": {
      "provenance": [],
      "authorship_tag": "ABX9TyNou55O45/Uj1bEmy/LLMFv"
    },
    "kernelspec": {
      "name": "python3",
      "display_name": "Python 3"
    },
    "language_info": {
      "name": "python"
    }
  },
  "cells": [
    {
      "cell_type": "code",
      "execution_count": null,
      "metadata": {
        "id": "tgS09jiOAczj"
      },
      "outputs": [],
      "source": [
        "import torch\n",
        "import torch.nn as nn\n",
        "import torch.optim as optim\n",
        "import torch.nn.functional as F\n",
        "\n",
        "import numpy as np\n",
        "import pandas as pd"
      ]
    },
    {
      "cell_type": "code",
      "source": [
        "class RNN(nn.Module):\n",
        "  def __init__(self,input_size, hidden_size, num_layers):\n",
        "    super(RNN,self).__init__()\n",
        "    self.input_size = input_size\n",
        "    self.hidden_size = hidden_size\n",
        "    self.num_layers = num_layers\n",
        "    \n",
        "    #Elman Rnn\n",
        "    self.rnn = nn.RNN(input_size = input_size, hidden_size = hidden_size, \n",
        "                      num_layers = num_layers, batch_first = True, bias = True)\n",
        "    self.relu = nn.ReLU()\n",
        "    self.fc = nn.Linear(hidden_size , 1)\n",
        "\n",
        "  def forward(self,x):\n",
        "    h_0 = Variable(torch.zeros(self.num_layers, x.size(), self.hidden_size))\n",
        "\n",
        "    out = self.rnn(x,h_0)\n",
        "    out = self.relu(out)\n",
        "    out = self.fc(out)\n",
        "    return out"
      ],
      "metadata": {
        "id": "W0DJp5AYAot2"
      },
      "execution_count": null,
      "outputs": []
    }
  ]
}