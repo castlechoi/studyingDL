{
  "nbformat": 4,
  "nbformat_minor": 0,
  "metadata": {
    "colab": {
      "provenance": [],
      "authorship_tag": "ABX9TyPN/QpJS835xuqkM9oSSzRA"
    },
    "kernelspec": {
      "name": "python3",
      "display_name": "Python 3"
    },
    "language_info": {
      "name": "python"
    }
  },
  "cells": [
    {
      "cell_type": "code",
      "execution_count": null,
      "metadata": {
        "id": "tgS09jiOAczj"
      },
      "outputs": [],
      "source": [
        "import torch\n",
        "import torch.nn as nn\n",
        "import torch.optim as optim\n",
        "import torch.nn.functional as F\n",
        "\n",
        "import numpy as np\n",
        "import pandas as pd\n",
        "\n",
        "from sklearn.preprocessing import StandardScaler, MinMaxScaler\n",
        "\n",
        "import matplotlib.pyplot as plt"
      ]
    },
    {
      "cell_type": "code",
      "source": [
        "class RNN(nn.Module):\n",
        "  def __init__(self,input_size, hidden_size, num_layers,num_classes):\n",
        "    super(RNN,self).__init__()\n",
        "    self.input_size = input_size\n",
        "    self.hidden_size = hidden_size\n",
        "    self.num_layers = num_layers\n",
        "    self.num_classes = num_classes\n",
        "    \n",
        "    #Elman Rnn\n",
        "    self.rnn = nn.RNN(input_size = input_size, hidden_size = hidden_size, \n",
        "                      num_layers = num_layers, batch_first = True, bias = True)\n",
        "    self.relu = nn.ReLU()\n",
        "    self.fc = nn.Linear(hidden_size , num_classes)\n",
        "\n",
        "  def forward(self,x):\n",
        "    #x.size(0) => batch_Size\n",
        "    h_0 = torch.zeros(self.num_layers, x.size(0), self.hidden_size)\n",
        "    out,_ = self.rnn(x,h_0)\n",
        "    out = self.fc(out[:][-1][:])\n",
        "    return out"
      ],
      "metadata": {
        "id": "W0DJp5AYAot2"
      },
      "execution_count": null,
      "outputs": []
    },
    {
      "cell_type": "code",
      "source": [
        "class LSTM(nn.Module):\n",
        "  def __init__(self,input_size, hidden_size, num_layers,num_classes):\n",
        "    super(RNN,self).__init__()\n",
        "    self.input_size = input_size\n",
        "    self.hidden_size = hidden_size\n",
        "    self.num_layers = num_layers\n",
        "    self.num_classes = num_classes\n",
        "    \n",
        "    #Long short term dependency\n",
        "    self.lstm = nn.LSTM(input_size = input_size, hidden_size = hidden_size, \n",
        "                      num_layers = num_layers, batch_first = True, bias = True)\n",
        "    self.relu = nn.ReLU()\n",
        "    self.fc = nn.Linear(hidden_size , num_classes)\n",
        "\n",
        "  def forward(self,x):\n",
        "    #x.size(0) => batch_Size\n",
        "    h_0 = torch.zeros(self.num_layers, x.size(0), self.hidden_size)\n",
        "    c_0 = torch.zeros(self.num_layers, x.size(0), self.hidden_size)\n",
        "\n",
        "    out,(hn, cn) = self.lstm(x,h_0)\n",
        "    out = self.fc(out[:][-1][:])\n",
        "    return out"
      ],
      "metadata": {
        "id": "Jib-j4e9Vuei"
      },
      "execution_count": null,
      "outputs": []
    },
    {
      "cell_type": "code",
      "source": [
        "daily_train = pd.read_csv(\"./Daily-train.csv\")\n",
        "daily_test = pd.read_csv(\"./Daily-test.csv\")"
      ],
      "metadata": {
        "id": "_DKl1GeyN0ro"
      },
      "execution_count": null,
      "outputs": []
    },
    {
      "cell_type": "code",
      "source": [
        "daily_train.head()"
      ],
      "metadata": {
        "colab": {
          "base_uri": "https://localhost:8080/",
          "height": 299
        },
        "id": "TXUzQmP9OP4I",
        "outputId": "056dd799-c979-43d5-9cee-a08c59652170"
      },
      "execution_count": null,
      "outputs": [
        {
          "output_type": "execute_result",
          "data": {
            "text/plain": [
              "   V1       V2       V3       V4       V5       V6       V7       V8       V9  \\\n",
              "0  D1  1017.10  1019.30  1017.00  1019.20  1018.70  1015.60  1018.50  1018.30   \n",
              "1  D2  2793.70  2793.80  2803.70  2805.80  2802.30  2795.00  2806.40  2782.20   \n",
              "2  D3  1091.30  1088.50  1085.70  1082.90  1080.10  1077.30  1074.50  1071.70   \n",
              "3  D4  1092.00  1078.00  1064.00  1050.00  1036.00  1022.00  1008.00  1092.00   \n",
              "4  D5  2938.63  2956.44  2964.41  2972.41  3014.97  3014.23  3024.08  3031.97   \n",
              "\n",
              "      V10  ...  V9911  V9912  V9913  V9914  V9915  V9916  V9917  V9918  V9919  \\\n",
              "0  1018.4  ...    NaN    NaN    NaN    NaN    NaN    NaN    NaN    NaN    NaN   \n",
              "1  2780.3  ...    NaN    NaN    NaN    NaN    NaN    NaN    NaN    NaN    NaN   \n",
              "2  1068.9  ...    NaN    NaN    NaN    NaN    NaN    NaN    NaN    NaN    NaN   \n",
              "3  1078.0  ...    NaN    NaN    NaN    NaN    NaN    NaN    NaN    NaN    NaN   \n",
              "4  3062.7  ...    NaN    NaN    NaN    NaN    NaN    NaN    NaN    NaN    NaN   \n",
              "\n",
              "   V9920  \n",
              "0    NaN  \n",
              "1    NaN  \n",
              "2    NaN  \n",
              "3    NaN  \n",
              "4    NaN  \n",
              "\n",
              "[5 rows x 9920 columns]"
            ],
            "text/html": [
              "\n",
              "  <div id=\"df-422b1c81-29f7-4222-8431-ffa12209a28d\">\n",
              "    <div class=\"colab-df-container\">\n",
              "      <div>\n",
              "<style scoped>\n",
              "    .dataframe tbody tr th:only-of-type {\n",
              "        vertical-align: middle;\n",
              "    }\n",
              "\n",
              "    .dataframe tbody tr th {\n",
              "        vertical-align: top;\n",
              "    }\n",
              "\n",
              "    .dataframe thead th {\n",
              "        text-align: right;\n",
              "    }\n",
              "</style>\n",
              "<table border=\"1\" class=\"dataframe\">\n",
              "  <thead>\n",
              "    <tr style=\"text-align: right;\">\n",
              "      <th></th>\n",
              "      <th>V1</th>\n",
              "      <th>V2</th>\n",
              "      <th>V3</th>\n",
              "      <th>V4</th>\n",
              "      <th>V5</th>\n",
              "      <th>V6</th>\n",
              "      <th>V7</th>\n",
              "      <th>V8</th>\n",
              "      <th>V9</th>\n",
              "      <th>V10</th>\n",
              "      <th>...</th>\n",
              "      <th>V9911</th>\n",
              "      <th>V9912</th>\n",
              "      <th>V9913</th>\n",
              "      <th>V9914</th>\n",
              "      <th>V9915</th>\n",
              "      <th>V9916</th>\n",
              "      <th>V9917</th>\n",
              "      <th>V9918</th>\n",
              "      <th>V9919</th>\n",
              "      <th>V9920</th>\n",
              "    </tr>\n",
              "  </thead>\n",
              "  <tbody>\n",
              "    <tr>\n",
              "      <th>0</th>\n",
              "      <td>D1</td>\n",
              "      <td>1017.10</td>\n",
              "      <td>1019.30</td>\n",
              "      <td>1017.00</td>\n",
              "      <td>1019.20</td>\n",
              "      <td>1018.70</td>\n",
              "      <td>1015.60</td>\n",
              "      <td>1018.50</td>\n",
              "      <td>1018.30</td>\n",
              "      <td>1018.4</td>\n",
              "      <td>...</td>\n",
              "      <td>NaN</td>\n",
              "      <td>NaN</td>\n",
              "      <td>NaN</td>\n",
              "      <td>NaN</td>\n",
              "      <td>NaN</td>\n",
              "      <td>NaN</td>\n",
              "      <td>NaN</td>\n",
              "      <td>NaN</td>\n",
              "      <td>NaN</td>\n",
              "      <td>NaN</td>\n",
              "    </tr>\n",
              "    <tr>\n",
              "      <th>1</th>\n",
              "      <td>D2</td>\n",
              "      <td>2793.70</td>\n",
              "      <td>2793.80</td>\n",
              "      <td>2803.70</td>\n",
              "      <td>2805.80</td>\n",
              "      <td>2802.30</td>\n",
              "      <td>2795.00</td>\n",
              "      <td>2806.40</td>\n",
              "      <td>2782.20</td>\n",
              "      <td>2780.3</td>\n",
              "      <td>...</td>\n",
              "      <td>NaN</td>\n",
              "      <td>NaN</td>\n",
              "      <td>NaN</td>\n",
              "      <td>NaN</td>\n",
              "      <td>NaN</td>\n",
              "      <td>NaN</td>\n",
              "      <td>NaN</td>\n",
              "      <td>NaN</td>\n",
              "      <td>NaN</td>\n",
              "      <td>NaN</td>\n",
              "    </tr>\n",
              "    <tr>\n",
              "      <th>2</th>\n",
              "      <td>D3</td>\n",
              "      <td>1091.30</td>\n",
              "      <td>1088.50</td>\n",
              "      <td>1085.70</td>\n",
              "      <td>1082.90</td>\n",
              "      <td>1080.10</td>\n",
              "      <td>1077.30</td>\n",
              "      <td>1074.50</td>\n",
              "      <td>1071.70</td>\n",
              "      <td>1068.9</td>\n",
              "      <td>...</td>\n",
              "      <td>NaN</td>\n",
              "      <td>NaN</td>\n",
              "      <td>NaN</td>\n",
              "      <td>NaN</td>\n",
              "      <td>NaN</td>\n",
              "      <td>NaN</td>\n",
              "      <td>NaN</td>\n",
              "      <td>NaN</td>\n",
              "      <td>NaN</td>\n",
              "      <td>NaN</td>\n",
              "    </tr>\n",
              "    <tr>\n",
              "      <th>3</th>\n",
              "      <td>D4</td>\n",
              "      <td>1092.00</td>\n",
              "      <td>1078.00</td>\n",
              "      <td>1064.00</td>\n",
              "      <td>1050.00</td>\n",
              "      <td>1036.00</td>\n",
              "      <td>1022.00</td>\n",
              "      <td>1008.00</td>\n",
              "      <td>1092.00</td>\n",
              "      <td>1078.0</td>\n",
              "      <td>...</td>\n",
              "      <td>NaN</td>\n",
              "      <td>NaN</td>\n",
              "      <td>NaN</td>\n",
              "      <td>NaN</td>\n",
              "      <td>NaN</td>\n",
              "      <td>NaN</td>\n",
              "      <td>NaN</td>\n",
              "      <td>NaN</td>\n",
              "      <td>NaN</td>\n",
              "      <td>NaN</td>\n",
              "    </tr>\n",
              "    <tr>\n",
              "      <th>4</th>\n",
              "      <td>D5</td>\n",
              "      <td>2938.63</td>\n",
              "      <td>2956.44</td>\n",
              "      <td>2964.41</td>\n",
              "      <td>2972.41</td>\n",
              "      <td>3014.97</td>\n",
              "      <td>3014.23</td>\n",
              "      <td>3024.08</td>\n",
              "      <td>3031.97</td>\n",
              "      <td>3062.7</td>\n",
              "      <td>...</td>\n",
              "      <td>NaN</td>\n",
              "      <td>NaN</td>\n",
              "      <td>NaN</td>\n",
              "      <td>NaN</td>\n",
              "      <td>NaN</td>\n",
              "      <td>NaN</td>\n",
              "      <td>NaN</td>\n",
              "      <td>NaN</td>\n",
              "      <td>NaN</td>\n",
              "      <td>NaN</td>\n",
              "    </tr>\n",
              "  </tbody>\n",
              "</table>\n",
              "<p>5 rows × 9920 columns</p>\n",
              "</div>\n",
              "      <button class=\"colab-df-convert\" onclick=\"convertToInteractive('df-422b1c81-29f7-4222-8431-ffa12209a28d')\"\n",
              "              title=\"Convert this dataframe to an interactive table.\"\n",
              "              style=\"display:none;\">\n",
              "        \n",
              "  <svg xmlns=\"http://www.w3.org/2000/svg\" height=\"24px\"viewBox=\"0 0 24 24\"\n",
              "       width=\"24px\">\n",
              "    <path d=\"M0 0h24v24H0V0z\" fill=\"none\"/>\n",
              "    <path d=\"M18.56 5.44l.94 2.06.94-2.06 2.06-.94-2.06-.94-.94-2.06-.94 2.06-2.06.94zm-11 1L8.5 8.5l.94-2.06 2.06-.94-2.06-.94L8.5 2.5l-.94 2.06-2.06.94zm10 10l.94 2.06.94-2.06 2.06-.94-2.06-.94-.94-2.06-.94 2.06-2.06.94z\"/><path d=\"M17.41 7.96l-1.37-1.37c-.4-.4-.92-.59-1.43-.59-.52 0-1.04.2-1.43.59L10.3 9.45l-7.72 7.72c-.78.78-.78 2.05 0 2.83L4 21.41c.39.39.9.59 1.41.59.51 0 1.02-.2 1.41-.59l7.78-7.78 2.81-2.81c.8-.78.8-2.07 0-2.86zM5.41 20L4 18.59l7.72-7.72 1.47 1.35L5.41 20z\"/>\n",
              "  </svg>\n",
              "      </button>\n",
              "      \n",
              "  <style>\n",
              "    .colab-df-container {\n",
              "      display:flex;\n",
              "      flex-wrap:wrap;\n",
              "      gap: 12px;\n",
              "    }\n",
              "\n",
              "    .colab-df-convert {\n",
              "      background-color: #E8F0FE;\n",
              "      border: none;\n",
              "      border-radius: 50%;\n",
              "      cursor: pointer;\n",
              "      display: none;\n",
              "      fill: #1967D2;\n",
              "      height: 32px;\n",
              "      padding: 0 0 0 0;\n",
              "      width: 32px;\n",
              "    }\n",
              "\n",
              "    .colab-df-convert:hover {\n",
              "      background-color: #E2EBFA;\n",
              "      box-shadow: 0px 1px 2px rgba(60, 64, 67, 0.3), 0px 1px 3px 1px rgba(60, 64, 67, 0.15);\n",
              "      fill: #174EA6;\n",
              "    }\n",
              "\n",
              "    [theme=dark] .colab-df-convert {\n",
              "      background-color: #3B4455;\n",
              "      fill: #D2E3FC;\n",
              "    }\n",
              "\n",
              "    [theme=dark] .colab-df-convert:hover {\n",
              "      background-color: #434B5C;\n",
              "      box-shadow: 0px 1px 3px 1px rgba(0, 0, 0, 0.15);\n",
              "      filter: drop-shadow(0px 1px 2px rgba(0, 0, 0, 0.3));\n",
              "      fill: #FFFFFF;\n",
              "    }\n",
              "  </style>\n",
              "\n",
              "      <script>\n",
              "        const buttonEl =\n",
              "          document.querySelector('#df-422b1c81-29f7-4222-8431-ffa12209a28d button.colab-df-convert');\n",
              "        buttonEl.style.display =\n",
              "          google.colab.kernel.accessAllowed ? 'block' : 'none';\n",
              "\n",
              "        async function convertToInteractive(key) {\n",
              "          const element = document.querySelector('#df-422b1c81-29f7-4222-8431-ffa12209a28d');\n",
              "          const dataTable =\n",
              "            await google.colab.kernel.invokeFunction('convertToInteractive',\n",
              "                                                     [key], {});\n",
              "          if (!dataTable) return;\n",
              "\n",
              "          const docLinkHtml = 'Like what you see? Visit the ' +\n",
              "            '<a target=\"_blank\" href=https://colab.research.google.com/notebooks/data_table.ipynb>data table notebook</a>'\n",
              "            + ' to learn more about interactive tables.';\n",
              "          element.innerHTML = '';\n",
              "          dataTable['output_type'] = 'display_data';\n",
              "          await google.colab.output.renderOutput(dataTable, element);\n",
              "          const docLink = document.createElement('div');\n",
              "          docLink.innerHTML = docLinkHtml;\n",
              "          element.appendChild(docLink);\n",
              "        }\n",
              "      </script>\n",
              "    </div>\n",
              "  </div>\n",
              "  "
            ]
          },
          "metadata": {},
          "execution_count": 4
        }
      ]
    },
    {
      "cell_type": "code",
      "source": [
        "daily_train.info()"
      ],
      "metadata": {
        "colab": {
          "base_uri": "https://localhost:8080/"
        },
        "id": "OoXzwRZHOlKf",
        "outputId": "d5944107-db53-4221-87dc-81c5c7ed2790"
      },
      "execution_count": null,
      "outputs": [
        {
          "output_type": "stream",
          "name": "stdout",
          "text": [
            "<class 'pandas.core.frame.DataFrame'>\n",
            "RangeIndex: 1661 entries, 0 to 1660\n",
            "Columns: 9920 entries, V1 to V9920\n",
            "dtypes: float64(9919), object(1)\n",
            "memory usage: 125.7+ MB\n"
          ]
        }
      ]
    },
    {
      "cell_type": "code",
      "source": [
        "d_train = daily_train.dropna(axis = 1)\n",
        "d_test = daily_test.dropna(axis = 1)"
      ],
      "metadata": {
        "id": "cTEBzpzVO4n4"
      },
      "execution_count": null,
      "outputs": []
    },
    {
      "cell_type": "code",
      "source": [
        "#index 제거\n",
        "d_train = d_train.drop(['V1'], axis = 'columns')\n",
        "d_test = d_test.drop(['V1'], axis = 'columns')"
      ],
      "metadata": {
        "id": "QB9jH6c2UKBN"
      },
      "execution_count": null,
      "outputs": []
    },
    {
      "cell_type": "code",
      "source": [
        "#hyperparameter\n",
        "window_size = 5\n",
        "hidden_size = 64\n",
        "num_classes = 1\n",
        "num_layers = 1\n",
        "\n",
        "lr = 0.001\n",
        "num_epochs = 1000"
      ],
      "metadata": {
        "id": "vFQNPOjhSRPW"
      },
      "execution_count": null,
      "outputs": []
    },
    {
      "cell_type": "code",
      "source": [
        "#data scaling\n",
        "scaler = MinMaxScaler()\n",
        "scaler.fit(d_train)\n",
        "scaler2 = MinMaxScaler()\n",
        "scaler2.fit(d_test)\n",
        "\n",
        "d_train_scaled = scaler.transform(d_train)\n",
        "d_test_scaled = scaler2.transform(d_test)\n",
        "\n",
        "d_train_list = d_train_scaled[0]\n",
        "d_test_list = d_test_scaled[0]\n",
        "\n",
        "\n",
        "X_train = []\n",
        "y_train = []\n",
        "X_test = []\n",
        "y_test = []\n",
        "\n",
        "for i in range(len(d_train_list)- window_size -1):\n",
        "  X_train.append(d_train_list[i:i+window_size])\n",
        "  y_train.append(d_train_list[i+window_size])\n",
        "\n",
        "\n",
        "for i in range(len(d_test_list) - window_size - 1):\n",
        "  X_test.append(d_test_list[i:i+window_size])  \n",
        "  y_test.append(d_test_list[i+window_size])\n",
        "\n",
        "X_train = torch.Tensor(X_train)\n",
        "y_train = torch.Tensor(y_train)\n",
        "X_test = torch.Tensor(X_test)\n",
        "y_test = torch.Tensor(y_test)\n",
        "\n",
        "print(\"train/test shape : \",X_train.shape, X_test.shape)"
      ],
      "metadata": {
        "colab": {
          "base_uri": "https://localhost:8080/"
        },
        "id": "jDjcKViYS67e",
        "outputId": "0f8b97b3-1667-4d3d-974b-fdfefc33d4a4"
      },
      "execution_count": null,
      "outputs": [
        {
          "output_type": "stream",
          "name": "stdout",
          "text": [
            "train/test shape :  torch.Size([91, 5]) torch.Size([8, 5])\n"
          ]
        }
      ]
    },
    {
      "cell_type": "code",
      "source": [
        "#reshape\n",
        "#input ( batch_size, sequence, input)\n",
        "#output( batch_size)\n",
        "X_train = X_train.view(1,-1,window_size)\n",
        "X_test = X_test.view(1,-1,window_size)\n",
        "\n",
        "print(\"X_train shape : \", X_train.shape)\n",
        "print(\"y_train shape : \", y_train.shape)\n",
        "\n",
        "print(\"X_test shape :\", X_test.shape)\n",
        "print(\"y_test shape :\", y_test.shape)"
      ],
      "metadata": {
        "colab": {
          "base_uri": "https://localhost:8080/"
        },
        "id": "KrtdndCIYJEj",
        "outputId": "1ce89929-ed42-4296-9e2a-908951a2fa87"
      },
      "execution_count": null,
      "outputs": [
        {
          "output_type": "stream",
          "name": "stdout",
          "text": [
            "X_train shape :  torch.Size([1, 91, 5])\n",
            "y_train shape :  torch.Size([91])\n",
            "X_test shape : torch.Size([1, 8, 5])\n",
            "y_test shape : torch.Size([8])\n"
          ]
        }
      ]
    },
    {
      "cell_type": "code",
      "source": [
        "model = RNN(window_size,hidden_size, num_layers, num_classes)\n",
        "optimizer = optim.Adam(model.parameters(), lr = lr)\n",
        "critertion = torch.nn.MSELoss()"
      ],
      "metadata": {
        "id": "3iOOpoqOZI27"
      },
      "execution_count": null,
      "outputs": []
    },
    {
      "cell_type": "code",
      "source": [
        "for epoch in range(num_epochs+1):\n",
        "  output = model.forward(X_train)\n",
        "  optimizer.zero_grad()\n",
        "  loss = critertion(output, y_train)\n",
        "  loss.backward()\n",
        "  optimizer.step()\n",
        "\n",
        "  if epoch % 100 == 0:\n",
        "    print(\"Epoch : \", epoch, \"loss :\",  loss.item())"
      ],
      "metadata": {
        "colab": {
          "base_uri": "https://localhost:8080/"
        },
        "id": "xSUDi-xFaEAC",
        "outputId": "05ac5ed3-3029-488e-e066-8cf1f4af0e5d"
      },
      "execution_count": null,
      "outputs": [
        {
          "output_type": "stream",
          "name": "stderr",
          "text": [
            "/usr/local/lib/python3.8/dist-packages/torch/nn/modules/loss.py:536: UserWarning: Using a target size (torch.Size([91])) that is different to the input size (torch.Size([91, 1])). This will likely lead to incorrect results due to broadcasting. Please ensure they have the same size.\n",
            "  return F.mse_loss(input, target, reduction=self.reduction)\n"
          ]
        },
        {
          "output_type": "stream",
          "name": "stdout",
          "text": [
            "Epoch :  0 loss : 0.006469827610999346\n",
            "Epoch :  100 loss : 4.8155423428397626e-05\n",
            "Epoch :  200 loss : 2.895981197070796e-05\n",
            "Epoch :  300 loss : 2.8616050258278847e-05\n",
            "Epoch :  400 loss : 2.8603108148672618e-05\n",
            "Epoch :  500 loss : 2.859373671526555e-05\n",
            "Epoch :  600 loss : 2.8585796826519072e-05\n",
            "Epoch :  700 loss : 2.8578959245351143e-05\n",
            "Epoch :  800 loss : 2.8573056624736637e-05\n",
            "Epoch :  900 loss : 2.8567901608766988e-05\n",
            "Epoch :  1000 loss : 2.8563330488395877e-05\n"
          ]
        }
      ]
    },
    {
      "cell_type": "code",
      "source": [
        "y_pred = model(X_test)"
      ],
      "metadata": {
        "id": "E2ziJQ22dWYR"
      },
      "execution_count": null,
      "outputs": []
    },
    {
      "cell_type": "code",
      "source": [
        "y_pred_numpy = y_pred.detach().numpy()\n",
        "y_test_numpy = y_test.numpy()\n",
        "plt.plot(range(len(y_pred_numpy)),y_pred_numpy)\n",
        "plt.show()"
      ],
      "metadata": {
        "colab": {
          "base_uri": "https://localhost:8080/",
          "height": 265
        },
        "id": "RgYx6KI5e8Xm",
        "outputId": "c5d8ce18-ed99-499d-fd5c-f14709599518"
      },
      "execution_count": null,
      "outputs": [
        {
          "output_type": "display_data",
          "data": {
            "text/plain": [
              "<Figure size 432x288 with 1 Axes>"
            ],
            "image/png": "[encoded data removed]"
          },
          "metadata": {
            "needs_background": "light"
          }
        }
      ]
    }
  ]
}