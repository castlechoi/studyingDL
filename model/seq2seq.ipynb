{
  "nbformat": 4,
  "nbformat_minor": 0,
  "metadata": {
    "colab": {
      "provenance": [],
      "authorship_tag": "ABX9TyOUBSTNuooVXlxD+Bxebi3n"
    },
    "kernelspec": {
      "name": "python3",
      "display_name": "Python 3"
    },
    "language_info": {
      "name": "python"
    }
  },
  "cells": [
    {
      "cell_type": "markdown",
      "source": [
        "\n",
        "## Seq2Seq\n",
        "\n",
        "  Example : chatbot, machine translation\n",
        "  \n",
        "  Process : Data -> Endcoder -> contect vector -> Decoder -> Output\n",
        "  Cell : LSTM, GRU\n",
        "  Symbol : <sos> ( start of sequence ), <eos> ( end of sequence )\n",
        "\n",
        "  Test\n",
        "  -> < eos >가 다음 단어로 예측 될 때까지 반복\n",
        "\n",
        "  teacher forcing : <sos> abs -> abs <eos>가 나오게 끔 훈련\n",
        "  contect vector : encoder의 마지막 hidden vector라고 할 수 있음\n",
        "\n",
        "  모든 단어들에 대해서 embedding vector로 변경해서 처리한다\n",
        "  \n"
      ],
      "metadata": {
        "id": "a1pUUeb9ugTj"
      }
    },
    {
      "cell_type": "code",
      "source": [
        "class Seq2Seq(nn.Module):\n",
        "  def __init__(self,input_size,output_size,hidden_size,num_layers):\n",
        "    self.super(self,Seq2Seq).__init__\n",
        "\n",
        "    self.input_dim = input_size\n",
        "    self.output_dim = output_size\n",
        "    self.hidden_size = hidden_size\n",
        "    self.num_layers = num_layers\n",
        "\n",
        "    self.encoder = nn.LSTM(input_size = self.input_size, hidden_size = self.hidden_size,\n",
        "                           num_layers = num_layers, batch_first = True)\n",
        "    \n",
        "    self.decoder = nn.LSTM(input_size = self.input_Size, hidden_size = self.hidden_size,\n",
        "                           num_layers = num_layers, batch_first = True)\n",
        "    \n",
        "    self.fc = nn.Linear(hidden_size, output_size)\n",
        "    \n",
        "  def forward(self,x):\n",
        "    #init encoder hidden/cell state\n",
        "    h_0 = torch.zeros(self.num_layers,x.size(0),-1)\n",
        "    c_0 = torch.zeros(self.num_layers,x.size(0),-1)\n",
        "\n",
        "    out, (h_n, c_n) = self.encoder( x , ( h_0 , c_0 ) )\n",
        "\n",
        "    # context vector is encoder's last hidden state\n",
        "    # init decoder's cell state\n",
        "    c_d_0 = torch.zeros(self.num_layers, x.size(0), -1)\n",
        "    h_d_0 = h_n\n",
        "\n",
        "    out_decoder, (h_d_0, c_d_0) = self.decoder( x , (h_n, c_0) )\n",
        "\n",
        "    out = self.fc(out_decoder)\n",
        "\n",
        "    return out"
      ],
      "metadata": {
        "id": "AOUSMu2Wq9u7"
      },
      "execution_count": null,
      "outputs": []
    }
  ]
}