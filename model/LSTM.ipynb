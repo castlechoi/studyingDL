{
  "nbformat": 4,
  "nbformat_minor": 0,
  "metadata": {
    "colab": {
      "provenance": [],
      "authorship_tag": "ABX9TyPrkw8prYF+7eCTfUBDwJw8",
      "include_colab_link": true
    },
    "kernelspec": {
      "name": "python3",
      "display_name": "Python 3"
    },
    "language_info": {
      "name": "python"
    }
  },
  "cells": [
    {
      "cell_type": "markdown",
      "metadata": {
        "id": "view-in-github",
        "colab_type": "text"
      },
      "source": [
        "<a href=\"https://colab.research.google.com/github/castlechoi/studyingDL/blob/main/model/LSTM.ipynb\" target=\"_parent\"><img src=\"https://colab.research.google.com/assets/colab-badge.svg\" alt=\"Open In Colab\"/></a>"
      ]
    },
    {
      "cell_type": "code",
      "execution_count": 1,
      "metadata": {
        "id": "9WuTc043jRtG"
      },
      "outputs": [],
      "source": [
        "import torch\n",
        "import torch.nn as nn\n",
        "import torch.optim as optim\n",
        "import torch.nn.functional as F\n",
        "from torch.autograd import Variable\n",
        "\n",
        "import numpy as np\n",
        "import pandas as pd\n",
        "\n",
        "import matplotlib.pyplot as plt"
      ]
    },
    {
      "cell_type": "code",
      "source": [
        "#GPU 체크\n",
        "is_cuda = torch.cuda.is_available()\n",
        "if is_cuda:\n",
        "  device = torch.device(\"cuda\")\n",
        "  print(\"GPU is available\")\n",
        "else:\n",
        "  device = torch.device(\"cpu\")\n",
        "  print(\"CPU is availalbe\")"
      ],
      "metadata": {
        "id": "mGJVlhUjlIeh",
        "colab": {
          "base_uri": "https://localhost:8080/"
        },
        "outputId": "6b4b1319-65d1-4663-c837-f37a09111be1"
      },
      "execution_count": 2,
      "outputs": [
        {
          "output_type": "stream",
          "name": "stdout",
          "text": [
            "CPU is availalbe\n"
          ]
        }
      ]
    },
    {
      "cell_type": "code",
      "source": [
        "class LSTM(nn.Module):\n",
        "  def __init__(self,input_size,hidden_size,output_size, num_layers):\n",
        "    super(LSTM,self).__init__()\n",
        "    self.input_size = input_size\n",
        "    self.output_size = output_size\n",
        "    self.hidden_size = hidden_size\n",
        "    self.num_layers = num_layers\n",
        "\n",
        "    #dropout 적용 x\n",
        "    self.lstm = nn.LSTM(input_size =input_size, hidden_size = hidden_size,\n",
        "                        num_layers = num_layers, batch_first = True, bias = True)\n",
        "    self.relu = nn.ReLU()\n",
        "    #forecasting의 output size = 1\n",
        "    self.fc = nn.Linear(hidden_size, output_size)\n",
        "\n",
        "  def forward(self,x):\n",
        "    h_0 = Variable(torch.zeros(1, 1,1))\n",
        "    c_0 = Variable(torch.zeros(1, 1,1))\n",
        "    \n",
        "    output , ( hn,cn ) = self.lstm(x, (h_0,c_0))\n",
        "\n",
        "    \n",
        "    return "
      ],
      "metadata": {
        "id": "s9wpThMujaEM"
      },
      "execution_count": 57,
      "outputs": []
    },
    {
      "cell_type": "code",
      "source": [
        "#dataset\n",
        "X_train = torch.FloatTensor([[[1],[2],[3]]])\n",
        "y_train = torch.FloatTensor([[[2],[4],[6]]])\n",
        "X_test = torch.FloatTensor([[[4]]])\n",
        "\n",
        "\n",
        "\n",
        "print(\"X_train shape : \", X_train.shape)\n",
        "print(\"y_train shape : \", y_train.shape)"
      ],
      "metadata": {
        "colab": {
          "base_uri": "https://localhost:8080/"
        },
        "id": "-CkD32Iqo57d",
        "outputId": "50ba6df0-2dde-4f2d-c2a8-f4ca35c045e4"
      },
      "execution_count": 55,
      "outputs": [
        {
          "output_type": "stream",
          "name": "stdout",
          "text": [
            "X_train shape :  torch.Size([1, 3, 1])\n",
            "y_train shape :  torch.Size([1, 3, 1])\n"
          ]
        }
      ]
    },
    {
      "cell_type": "code",
      "source": [
        "#hyperparameter\n",
        "input_size = 1\n",
        "hidden_size = 1\n",
        "output_size = 1\n",
        "num_layers = 1\n",
        "\n",
        "lr = 0.001\n",
        "num_epochs = 10"
      ],
      "metadata": {
        "id": "FS3pBSGCuK3f"
      },
      "execution_count": 49,
      "outputs": []
    },
    {
      "cell_type": "code",
      "source": [
        "model = LSTM(input_size,hidden_size,output_size, num_layers)\n",
        "critertion = torch.nn.MSELoss()\n",
        "optimizer = torch.optim.Adam(model.parameters(), lr = lr)"
      ],
      "metadata": {
        "id": "lKew-miJuS43"
      },
      "execution_count": 58,
      "outputs": []
    },
    {
      "cell_type": "code",
      "source": [
        "for epoch in range(num_epochs + 1):\n",
        "  outputs = model.forward(X_train)\n",
        "  print(outputs.shape)\n",
        "  optimizer.zero_grad()\n",
        "  loss = critertion(outputs,y_train)\n",
        "  loss.backward()\n",
        "  optimizer.step()\n",
        "y_pred = model(X_test)\n",
        "print(\"y_pred : \", y_pred)\n"
      ],
      "metadata": {
        "colab": {
          "base_uri": "https://localhost:8080/"
        },
        "id": "uqhkHzHbwJGR",
        "outputId": "5664a3f6-7926-40aa-9120-5464c9346dd2"
      },
      "execution_count": 59,
      "outputs": [
        {
          "output_type": "stream",
          "name": "stdout",
          "text": [
            "torch.Size([1, 1])\n",
            "torch.Size([1, 1])\n",
            "torch.Size([1, 1])\n",
            "torch.Size([1, 1])\n",
            "torch.Size([1, 1])\n",
            "torch.Size([1, 1])\n",
            "torch.Size([1, 1])\n",
            "torch.Size([1, 1])\n",
            "torch.Size([1, 1])\n",
            "torch.Size([1, 1])\n",
            "torch.Size([1, 1])\n",
            "y_pred :  tensor([[0.6393]], grad_fn=<SelectBackward0>)\n"
          ]
        },
        {
          "output_type": "stream",
          "name": "stderr",
          "text": [
            "/usr/local/lib/python3.8/dist-packages/torch/nn/modules/loss.py:536: UserWarning: Using a target size (torch.Size([1, 3, 1])) that is different to the input size (torch.Size([1, 1])). This will likely lead to incorrect results due to broadcasting. Please ensure they have the same size.\n",
            "  return F.mse_loss(input, target, reduction=self.reduction)\n"
          ]
        }
      ]
    }
  ]
}